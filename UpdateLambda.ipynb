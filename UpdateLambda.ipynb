{
 "cells": [
  {
   "cell_type": "markdown",
   "source": [
    "# How to Update a Lambda Function\n",
    "An example of how this package might be used to update a lambda function.\n",
    "\n",
    "\n",
    "### Import the lambda client"
   ],
   "metadata": {
    "collapsed": false,
    "pycharm": {
     "name": "#%% md\n"
    }
   }
  },
  {
   "cell_type": "code",
   "execution_count": null,
   "outputs": [],
   "source": [
    "from JT_AWS import Lambda_Client"
   ],
   "metadata": {
    "collapsed": false,
    "pycharm": {
     "name": "#%% \n"
    }
   }
  },
  {
   "cell_type": "markdown",
   "source": [
    "### Start a Lambda Client\n",
    "You need to supply the credentials used to connect to AWS\n",
    "You also need to have an S3 bucket to store the zip files for your lambda function"
   ],
   "metadata": {
    "collapsed": false
   }
  },
  {
   "cell_type": "code",
   "execution_count": null,
   "outputs": [],
   "source": [
    "client = Lambda_Client(\n",
    "    cred_path='./credentials.csv',\n",
    "    bucket_name='jt-lambda-functions',\n",
    "    region='us-east-2'\n",
    ")"
   ],
   "metadata": {
    "collapsed": false,
    "pycharm": {
     "name": "#%% \n"
    }
   }
  },
  {
   "cell_type": "markdown",
   "source": [
    "### Upload the Lambda\n",
    "This function will automatically zip your Lambda function and upload it to S3. From there it tells Lambda to use the \n",
    "code that was just uploaded."
   ],
   "metadata": {
    "collapsed": false
   }
  },
  {
   "cell_type": "code",
   "execution_count": null,
   "outputs": [],
   "source": [
    "client.UpdateLambdaFromFolder(\n",
    "    lambda_name='SubReport', \n",
    "    folder_path='./Lambda'\n",
    ")"
   ],
   "metadata": {
    "collapsed": false,
    "pycharm": {
     "name": "#%%\n"
    }
   }
  }
 ],
 "metadata": {
  "kernelspec": {
   "display_name": "Python 3",
   "language": "python",
   "name": "python3"
  },
  "language_info": {
   "codemirror_mode": {
    "name": "ipython",
    "version": 3
   },
   "file_extension": ".py",
   "mimetype": "text/x-python",
   "name": "python",
   "nbconvert_exporter": "python",
   "pygments_lexer": "ipython3",
   "version": "3.7.4"
  },
  "pycharm": {
   "stem_cell": {
    "cell_type": "raw",
    "source": [],
    "metadata": {
     "collapsed": false
    }
   }
  }
 },
 "nbformat": 4,
 "nbformat_minor": 4
}